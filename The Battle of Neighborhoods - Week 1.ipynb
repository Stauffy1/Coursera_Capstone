{
    "cells": [
        {
            "metadata": {
                "collapsed": true
            },
            "cell_type": "markdown",
            "source": "# Capstone Project - The Battle of Neighborhoods"
        },
        {
            "metadata": {},
            "cell_type": "markdown",
            "source": "## Franziska's guide on where to eat in Z\u00fcrich"
        },
        {
            "metadata": {},
            "cell_type": "markdown",
            "source": "### Prologue"
        },
        {
            "metadata": {},
            "cell_type": "markdown",
            "source": "Every time I visit a city I am interested in understanding where to eat local foods and where to eat based on different cuisines. Often visiting cities on foot, a map is extremely convenient to avoid wandering around. The last time I was in Z\u00fcrich I was looking for an Indian restaurant.\nMy project was born from this."
        },
        {
            "metadata": {},
            "cell_type": "markdown",
            "source": "### Introduction / Business problem"
        },
        {
            "metadata": {},
            "cell_type": "markdown",
            "source": "Z\u00fcrich is the largest city in Switzerland with a population of over 428'700, constantly growing in recent years. 1,5 million people live in Z\u00fcrich agglomeration.\nThe city is well known for being one of the world's largest financial centres, but it is also famous for its luxurious lifestyles, shopping (Did you never  heard of Bahnofstrasse?) and chocolates.\nLast but not least, it's one of the top ranked cities to live in the world!\n\nThe City of Z\u00fcrich is divided into 12 districts and 34 quarters. The goal of this project is to provide you with a map that answers these questions: In which district can you find the largest number of Indian Restaurants and any other type of restaurant? Where to eat Vietnamese, Chinese, Vegan or any other dish?\n\nIf you are traveling to this city for work or a short break, or if you've just moved to this city, knowing where to eat Indian, Thai or a steak can make your stay more enjoyable."
        },
        {
            "metadata": {},
            "cell_type": "markdown",
            "source": "### Data description"
        },
        {
            "metadata": {},
            "cell_type": "markdown",
            "source": "For this project I will use two data source: Foursquare, as requested by the course, and Wikipedia.\n\n- From Wikipedia I will get the list of the 12 districts in Z\u00fcrich. \n *  Here is the reference link: https://en.wikipedia.org/wiki/Subdivisions_of_Z%C3%BCrich\n\\n\n- From Foursquare I will get the list of restaurants.\n *  For each restaurant I will get the following fields: ID, Name, location and category.\n *  Here the reference link with API details: https://developer.foursquare.com/docs/api-reference/venues/details\n\n\n"
        },
        {
            "metadata": {},
            "cell_type": "markdown",
            "source": ""
        }
    ],
    "metadata": {
        "kernelspec": {
            "name": "python3",
            "display_name": "Python 3.7",
            "language": "python"
        },
        "language_info": {
            "name": "python",
            "version": "3.7.10",
            "mimetype": "text/x-python",
            "codemirror_mode": {
                "name": "ipython",
                "version": 3
            },
            "pygments_lexer": "ipython3",
            "nbconvert_exporter": "python",
            "file_extension": ".py"
        }
    },
    "nbformat": 4,
    "nbformat_minor": 1
}